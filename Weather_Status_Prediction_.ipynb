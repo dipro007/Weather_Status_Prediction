{
  "nbformat": 4,
  "nbformat_minor": 0,
  "metadata": {
    "colab": {
      "name": "Weather Status Prediction .ipynb",
      "provenance": [],
      "collapsed_sections": []
    },
    "kernelspec": {
      "name": "python3",
      "display_name": "Python 3"
    }
  },
  "cells": [
    {
      "cell_type": "markdown",
      "metadata": {
        "id": "qk_BHSY2BvKG"
      },
      "source": [
        "\n",
        "###**Group Members Information :**\n",
        "\n",
        "\n",
        "####Name : Muhtasim Shafi Kader ,                       ID : 181-15-10809\n",
        "\n",
        "####Name : Md.Shihab Mahmud ,                           ID : 181-15-10961 \n",
        "\n",
        "####Name : Jobeda Akter ,                               ID : 181-15-10816\n"
      ]
    },
    {
      "cell_type": "markdown",
      "metadata": {
        "id": "kKFYkfoJDYSy"
      },
      "source": [
        "**Project Description :**\n",
        "\n",
        "We are working on **Weather Status Prediction of Dhaka City**.\n",
        "\n",
        "Some Machine Learning algorithms have used to build models to predict weather status by analyzing Temperature ( °c), Wind (km/h), Gust (km/h), Rain (mm), Humidity (%)\tCloud (%), Pressure (mb) data."
      ]
    },
    {
      "cell_type": "markdown",
      "metadata": {
        "id": "JONxdme-E0SV"
      },
      "source": [
        "[Data Source Link](https://https://www.worldweatheronline.com/)\n",
        "\n",
        "####*DataSet Mood: Private*\n",
        "\n",
        "####*DataSet Making Process:* Manually\n",
        "\n",
        "####*DataSet Description:* italicized text\n",
        "\n",
        "There are **Seven features** and **one Target Class**\n",
        "\n",
        "Target Class is containing the following **9** category ,\n",
        "\n",
        "  'Moderate Rain' = 0\n",
        "\n",
        "  'Thundershower' = 1\n",
        "\n",
        "  'Heavy Rain' = 2\n",
        "  \n",
        "  'Thunder Outbreaks Possible' = 3\n",
        "\n",
        "  'Cloudy' = 4\n",
        "\n",
        "  'Moderate or Heavy Rain' = 5\n",
        "\n",
        "  'Clear or Sunny' = 6\n",
        "\n",
        "  'Light Rain' = 7\n",
        "\n",
        "  'Partly Cloudy' = 8\n"
      ]
    },
    {
      "cell_type": "markdown",
      "metadata": {
        "id": "3_8LYv-xIpDj"
      },
      "source": [
        "#####**Importing Necessary Packages**"
      ]
    },
    {
      "cell_type": "code",
      "metadata": {
        "id": "-G3OnQ0LI1mo"
      },
      "source": [
        "import pandas as pd\n",
        "import numpy as np\n",
        "import matplotlib.pyplot as plt"
      ],
      "execution_count": null,
      "outputs": []
    },
    {
      "cell_type": "markdown",
      "metadata": {
        "id": "43CWyhy-I51L"
      },
      "source": [
        "#####**Import DataSet**"
      ]
    },
    {
      "cell_type": "code",
      "metadata": {
        "colab": {
          "resources": {
            "http://localhost:8080/nbextensions/google.colab/files.js": {
              "data": "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",
              "ok": true,
              "headers": [
                [
                  "content-type",
                  "application/javascript"
                ]
              ],
              "status": 200,
              "status_text": ""
            }
          },
          "base_uri": "https://localhost:8080/",
          "height": 72
        },
        "id": "P-P-YMT8I-ik",
        "outputId": "ad2e3412-c1fd-4a69-8b6d-4be2e3421197"
      },
      "source": [
        "from google.colab import files \n",
        "uploaded = files.upload()"
      ],
      "execution_count": 33,
      "outputs": [
        {
          "output_type": "display_data",
          "data": {
            "text/html": [
              "\n",
              "     <input type=\"file\" id=\"files-e32090d3-75b2-4374-a559-da4d9e708300\" name=\"files[]\" multiple disabled\n",
              "        style=\"border:none\" />\n",
              "     <output id=\"result-e32090d3-75b2-4374-a559-da4d9e708300\">\n",
              "      Upload widget is only available when the cell has been executed in the\n",
              "      current browser session. Please rerun this cell to enable.\n",
              "      </output>\n",
              "      <script src=\"/nbextensions/google.colab/files.js\"></script> "
            ],
            "text/plain": [
              "<IPython.core.display.HTML object>"
            ]
          },
          "metadata": {
            "tags": []
          }
        },
        {
          "output_type": "stream",
          "text": [
            "Saving new1.xlsx to new1.xlsx\n"
          ],
          "name": "stdout"
        }
      ]
    },
    {
      "cell_type": "markdown",
      "metadata": {
        "id": "2slQNK9mJKJL"
      },
      "source": [
        "#####**Reading Imported DataSet**"
      ]
    },
    {
      "cell_type": "code",
      "metadata": {
        "colab": {
          "base_uri": "https://localhost:8080/",
          "height": 204
        },
        "id": "3hunvCSQJhAp",
        "outputId": "95092031-2b5f-468d-882d-19731a587732"
      },
      "source": [
        "df = pd.read_excel('new1.xlsx')\n",
        "df.head(n = 5)"
      ],
      "execution_count": 34,
      "outputs": [
        {
          "output_type": "execute_result",
          "data": {
            "text/html": [
              "<div>\n",
              "<style scoped>\n",
              "    .dataframe tbody tr th:only-of-type {\n",
              "        vertical-align: middle;\n",
              "    }\n",
              "\n",
              "    .dataframe tbody tr th {\n",
              "        vertical-align: top;\n",
              "    }\n",
              "\n",
              "    .dataframe thead th {\n",
              "        text-align: right;\n",
              "    }\n",
              "</style>\n",
              "<table border=\"1\" class=\"dataframe\">\n",
              "  <thead>\n",
              "    <tr style=\"text-align: right;\">\n",
              "      <th></th>\n",
              "      <th>Temperature ( °c)</th>\n",
              "      <th>Wind (km/h)</th>\n",
              "      <th>Gust (km/h)</th>\n",
              "      <th>Rain (mm)</th>\n",
              "      <th>Humidity (%)</th>\n",
              "      <th>Pressure (mb)</th>\n",
              "      <th>Status</th>\n",
              "    </tr>\n",
              "  </thead>\n",
              "  <tbody>\n",
              "    <tr>\n",
              "      <th>0</th>\n",
              "      <td>21.0</td>\n",
              "      <td>7</td>\n",
              "      <td>13</td>\n",
              "      <td>0.0</td>\n",
              "      <td>54</td>\n",
              "      <td>1016</td>\n",
              "      <td>Partly Cloudy</td>\n",
              "    </tr>\n",
              "    <tr>\n",
              "      <th>1</th>\n",
              "      <td>20.0</td>\n",
              "      <td>9</td>\n",
              "      <td>16</td>\n",
              "      <td>0.0</td>\n",
              "      <td>58</td>\n",
              "      <td>1016</td>\n",
              "      <td>Partly Cloudy</td>\n",
              "    </tr>\n",
              "    <tr>\n",
              "      <th>2</th>\n",
              "      <td>19.0</td>\n",
              "      <td>9</td>\n",
              "      <td>15</td>\n",
              "      <td>0.0</td>\n",
              "      <td>64</td>\n",
              "      <td>1016</td>\n",
              "      <td>Partly Cloudy</td>\n",
              "    </tr>\n",
              "    <tr>\n",
              "      <th>3</th>\n",
              "      <td>24.0</td>\n",
              "      <td>5</td>\n",
              "      <td>6</td>\n",
              "      <td>0.0</td>\n",
              "      <td>56</td>\n",
              "      <td>1020</td>\n",
              "      <td>Partly Cloudy</td>\n",
              "    </tr>\n",
              "    <tr>\n",
              "      <th>4</th>\n",
              "      <td>28.0</td>\n",
              "      <td>6</td>\n",
              "      <td>6</td>\n",
              "      <td>0.0</td>\n",
              "      <td>56</td>\n",
              "      <td>1019</td>\n",
              "      <td>Partly Cloudy</td>\n",
              "    </tr>\n",
              "  </tbody>\n",
              "</table>\n",
              "</div>"
            ],
            "text/plain": [
              "   Temperature ( °c)  Wind (km/h)  ...  Pressure (mb)         Status\n",
              "0               21.0            7  ...           1016  Partly Cloudy\n",
              "1               20.0            9  ...           1016  Partly Cloudy\n",
              "2               19.0            9  ...           1016  Partly Cloudy\n",
              "3               24.0            5  ...           1020  Partly Cloudy\n",
              "4               28.0            6  ...           1019  Partly Cloudy\n",
              "\n",
              "[5 rows x 7 columns]"
            ]
          },
          "metadata": {
            "tags": []
          },
          "execution_count": 34
        }
      ]
    },
    {
      "cell_type": "markdown",
      "metadata": {
        "id": "HLhj14fRJvtw"
      },
      "source": [
        "#####**Determining Attributes and Labels from DataSet**"
      ]
    },
    {
      "cell_type": "code",
      "metadata": {
        "id": "Bkz4PwAAKMBb"
      },
      "source": [
        "X = df.iloc[ : ,  : -1].values\n",
        "y = df.iloc[ : , -1].values"
      ],
      "execution_count": 35,
      "outputs": []
    },
    {
      "cell_type": "markdown",
      "metadata": {
        "id": "0LQ9vLrDKRpP"
      },
      "source": [
        "#####**Spliting the DataSet into TrainSet & TestSet**\n",
        "\n",
        "#####[scikit-learn](https://scikit-learn.org/stable/)\n",
        "\n",
        "#####TrainSet Size: **80%**\n",
        "\n",
        "#####TestSet Size: **20%**"
      ]
    },
    {
      "cell_type": "code",
      "metadata": {
        "id": "HJpxXiHXKhOd"
      },
      "source": [
        "from sklearn.model_selection import train_test_split\n",
        "X_train, X_test, y_train, y_test = train_test_split(X, y, test_size = 0.20, random_state = 21)"
      ],
      "execution_count": 36,
      "outputs": []
    },
    {
      "cell_type": "markdown",
      "metadata": {
        "id": "mIc-NtUiLicZ"
      },
      "source": [
        "#####**Scaling The features**"
      ]
    },
    {
      "cell_type": "code",
      "metadata": {
        "colab": {
          "base_uri": "https://localhost:8080/"
        },
        "id": "iuw_NvXTXnBB",
        "outputId": "b91c6fd1-33aa-4f7f-adcf-625133b6f5e6"
      },
      "source": [
        "\n",
        "df['Pressure (mb)'].dtypes"
      ],
      "execution_count": 50,
      "outputs": [
        {
          "output_type": "execute_result",
          "data": {
            "text/plain": [
              "dtype('int64')"
            ]
          },
          "metadata": {
            "tags": []
          },
          "execution_count": 50
        }
      ]
    },
    {
      "cell_type": "code",
      "metadata": {
        "id": "0ARmlTf8LsU5"
      },
      "source": [
        "from sklearn.preprocessing import StandardScaler\n",
        "scaler = StandardScaler()\n",
        "scaler.fit(X_train,)\n",
        "\n",
        "X_train = scaler.transform(X_train)\n",
        "X_test = scaler.transform(X_test)"
      ],
      "execution_count": 37,
      "outputs": []
    },
    {
      "cell_type": "markdown",
      "metadata": {
        "id": "Y2dAOtz3L2A2"
      },
      "source": [
        "#####**Traing & Predicting Using KNN**"
      ]
    },
    {
      "cell_type": "code",
      "metadata": {
        "id": "ofGD6x3wMJMX"
      },
      "source": [
        "from sklearn.neighbors import KNeighborsClassifier\n",
        "\n",
        "knn = KNeighborsClassifier(n_neighbors = 10)\n",
        "knn.fit(X_train, y_train)\n",
        "\n",
        "y_pred = knn.predict(X_test)"
      ],
      "execution_count": 38,
      "outputs": []
    },
    {
      "cell_type": "markdown",
      "metadata": {
        "id": "3LFZWhFAMe1_"
      },
      "source": [
        "#####**Evaluating KNN**"
      ]
    },
    {
      "cell_type": "code",
      "metadata": {
        "colab": {
          "base_uri": "https://localhost:8080/"
        },
        "id": "jtN0v0EIMrFX",
        "outputId": "5d6ac975-1464-4d80-ac2b-56a25fba4964"
      },
      "source": [
        "from sklearn.metrics import classification_report, confusion_matrix\n",
        "print(confusion_matrix(y_test, y_pred))\n",
        "print(classification_report(y_test, y_pred))"
      ],
      "execution_count": 39,
      "outputs": [
        {
          "output_type": "stream",
          "text": [
            "[[ 17   1   0   1   0   0  30   0   0]\n",
            " [  1   9   0   3   0   0  13   0   0]\n",
            " [  0   0   8   0   0   2   0   0   0]\n",
            " [  2   5   0  79   0   0  30   0   1]\n",
            " [  0   0   0   1   0   1   0   0   0]\n",
            " [  0   0   0   3   0  37   0   0   0]\n",
            " [ 18   3   0  11   0   0 146   0   0]\n",
            " [  1   0   0   2   0   0   4   0   1]\n",
            " [  0   2   0   2   0   0   5   0   0]]\n",
            "                             precision    recall  f1-score   support\n",
            "\n",
            "             Clear or Sunny       0.44      0.35      0.39        49\n",
            "                     Cloudy       0.45      0.35      0.39        26\n",
            "                 Heavy Rain       1.00      0.80      0.89        10\n",
            "                 Light Rain       0.77      0.68      0.72       117\n",
            "              Moderate Rain       0.00      0.00      0.00         2\n",
            "     Moderate or Heavy Rain       0.93      0.93      0.93        40\n",
            "              Partly Cloudy       0.64      0.82      0.72       178\n",
            "              Thundershower       0.00      0.00      0.00         8\n",
            "Thundery Outbreaks Possible       0.00      0.00      0.00         9\n",
            "\n",
            "                   accuracy                           0.67       439\n",
            "                  macro avg       0.47      0.43      0.45       439\n",
            "               weighted avg       0.65      0.67      0.65       439\n",
            "\n"
          ],
          "name": "stdout"
        },
        {
          "output_type": "stream",
          "text": [
            "/usr/local/lib/python3.7/dist-packages/sklearn/metrics/_classification.py:1272: UndefinedMetricWarning: Precision and F-score are ill-defined and being set to 0.0 in labels with no predicted samples. Use `zero_division` parameter to control this behavior.\n",
            "  _warn_prf(average, modifier, msg_start, len(result))\n"
          ],
          "name": "stderr"
        }
      ]
    },
    {
      "cell_type": "markdown",
      "metadata": {
        "id": "cmMolfbKNBfY"
      },
      "source": [
        "#####**Traing & Predicting Using Decision Tree Classifier**"
      ]
    },
    {
      "cell_type": "code",
      "metadata": {
        "id": "X3w1l8FrNZaO"
      },
      "source": [
        "from sklearn.tree import DecisionTreeClassifier\n",
        "\n",
        "dtree = DecisionTreeClassifier(criterion='entropy')\n",
        "dtree.fit(X_train, y_train)\n",
        "\n",
        "y_pred = dtree.predict(X_test)"
      ],
      "execution_count": 40,
      "outputs": []
    },
    {
      "cell_type": "markdown",
      "metadata": {
        "id": "oS2AxUqqN2IW"
      },
      "source": [
        "#####**Evaluating Decision Tree**"
      ]
    },
    {
      "cell_type": "code",
      "metadata": {
        "colab": {
          "base_uri": "https://localhost:8080/"
        },
        "id": "JgqwjcneN6mj",
        "outputId": "4a40aca9-5adb-42c0-9abb-ecfb9569e6c0"
      },
      "source": [
        "from sklearn.metrics import classification_report, confusion_matrix\n",
        "print(confusion_matrix(y_test, y_pred))\n",
        "print(classification_report(y_test, y_pred))"
      ],
      "execution_count": 41,
      "outputs": [
        {
          "output_type": "stream",
          "text": [
            "[[ 22   2   0   0   0   0  25   0   0]\n",
            " [  0  13   0   0   0   0  12   0   1]\n",
            " [  0   0   8   2   0   0   0   0   0]\n",
            " [  0   0   0 104   4   0   1   6   2]\n",
            " [  0   0   0   1   0   1   0   0   0]\n",
            " [  0   0   0   0   0  40   0   0   0]\n",
            " [ 27  10   0   2   0   0 134   0   5]\n",
            " [  0   0   0   6   1   0   0   1   0]\n",
            " [  0   1   0   2   0   0   5   0   1]]\n",
            "                             precision    recall  f1-score   support\n",
            "\n",
            "             Clear or Sunny       0.45      0.45      0.45        49\n",
            "                     Cloudy       0.50      0.50      0.50        26\n",
            "                 Heavy Rain       1.00      0.80      0.89        10\n",
            "                 Light Rain       0.89      0.89      0.89       117\n",
            "              Moderate Rain       0.00      0.00      0.00         2\n",
            "     Moderate or Heavy Rain       0.98      1.00      0.99        40\n",
            "              Partly Cloudy       0.76      0.75      0.75       178\n",
            "              Thundershower       0.14      0.12      0.13         8\n",
            "Thundery Outbreaks Possible       0.11      0.11      0.11         9\n",
            "\n",
            "                   accuracy                           0.74       439\n",
            "                  macro avg       0.54      0.51      0.52       439\n",
            "               weighted avg       0.74      0.74      0.74       439\n",
            "\n"
          ],
          "name": "stdout"
        }
      ]
    },
    {
      "cell_type": "markdown",
      "metadata": {
        "id": "lSv-1uP1Pyxt"
      },
      "source": [
        "#####**Training & Predicting Using RandomForest Classifier**"
      ]
    },
    {
      "cell_type": "code",
      "metadata": {
        "id": "VK5MIN1QQY8F"
      },
      "source": [
        "from sklearn.ensemble import RandomForestClassifier\n",
        "\n",
        "rf = RandomForestClassifier()\n",
        "rf.fit(X_train, y_train)\n",
        "\n",
        "y_pred = rf.predict(X_test)"
      ],
      "execution_count": 42,
      "outputs": []
    },
    {
      "cell_type": "markdown",
      "metadata": {
        "id": "IRVT4nvHQszt"
      },
      "source": [
        "#####**Evaluating RandomForest**"
      ]
    },
    {
      "cell_type": "code",
      "metadata": {
        "colab": {
          "base_uri": "https://localhost:8080/"
        },
        "id": "KffFjt7nQ1Fu",
        "outputId": "222d34f4-ef68-4258-98a1-7a038316064c"
      },
      "source": [
        "from sklearn.metrics import classification_report, confusion_matrix\n",
        "print(confusion_matrix(y_test, y_pred))\n",
        "print(classification_report(y_test, y_pred))"
      ],
      "execution_count": 43,
      "outputs": [
        {
          "output_type": "stream",
          "text": [
            "[[ 13   0   0   0   0   0  36   0   0]\n",
            " [  0  12   0   0   0   0  14   0   0]\n",
            " [  0   0   9   1   0   0   0   0   0]\n",
            " [  0   0   0 115   0   0   1   1   0]\n",
            " [  0   0   0   1   0   1   0   0   0]\n",
            " [  0   0   0   0   0  40   0   0   0]\n",
            " [ 11   4   0   0   0   0 163   0   0]\n",
            " [  0   0   0   8   0   0   0   0   0]\n",
            " [  0   0   0   3   0   0   6   0   0]]\n",
            "                             precision    recall  f1-score   support\n",
            "\n",
            "             Clear or Sunny       0.54      0.27      0.36        49\n",
            "                     Cloudy       0.75      0.46      0.57        26\n",
            "                 Heavy Rain       1.00      0.90      0.95        10\n",
            "                 Light Rain       0.90      0.98      0.94       117\n",
            "              Moderate Rain       0.00      0.00      0.00         2\n",
            "     Moderate or Heavy Rain       0.98      1.00      0.99        40\n",
            "              Partly Cloudy       0.74      0.92      0.82       178\n",
            "              Thundershower       0.00      0.00      0.00         8\n",
            "Thundery Outbreaks Possible       0.00      0.00      0.00         9\n",
            "\n",
            "                   accuracy                           0.80       439\n",
            "                  macro avg       0.55      0.50      0.51       439\n",
            "               weighted avg       0.76      0.80      0.77       439\n",
            "\n"
          ],
          "name": "stdout"
        },
        {
          "output_type": "stream",
          "text": [
            "/usr/local/lib/python3.7/dist-packages/sklearn/metrics/_classification.py:1272: UndefinedMetricWarning: Precision and F-score are ill-defined and being set to 0.0 in labels with no predicted samples. Use `zero_division` parameter to control this behavior.\n",
            "  _warn_prf(average, modifier, msg_start, len(result))\n"
          ],
          "name": "stderr"
        }
      ]
    },
    {
      "cell_type": "markdown",
      "metadata": {
        "id": "FJ0EUZi3R_8O"
      },
      "source": [
        "#####**Training & Predicting Using Gradient Boosting Classifier**"
      ]
    },
    {
      "cell_type": "code",
      "metadata": {
        "id": "cCDzpyUySD3_"
      },
      "source": [
        "from sklearn.ensemble import GradientBoostingClassifier\n",
        "\n",
        "gb = GradientBoostingClassifier()\n",
        "\n",
        "gb.fit(X_train, y_train)\n",
        "\n",
        "y_pred = gb.predict(X_test)"
      ],
      "execution_count": 44,
      "outputs": []
    },
    {
      "cell_type": "markdown",
      "metadata": {
        "id": "R97D1eqHSXwO"
      },
      "source": [
        "#####**Evaluating Gradient Boosting**"
      ]
    },
    {
      "cell_type": "code",
      "metadata": {
        "colab": {
          "base_uri": "https://localhost:8080/"
        },
        "id": "yERNShXRScj5",
        "outputId": "82d39c90-80fd-4891-d734-4a108747f5ef"
      },
      "source": [
        "from sklearn.metrics import classification_report, confusion_matrix\n",
        "print(confusion_matrix(y_test, y_pred))\n",
        "print(classification_report(y_test, y_pred))"
      ],
      "execution_count": 45,
      "outputs": [
        {
          "output_type": "stream",
          "text": [
            "[[ 17   0   0   0   0   0  32   0   0]\n",
            " [  0   9   0   0   0   0  17   0   0]\n",
            " [  0   0   9   1   0   0   0   0   0]\n",
            " [  0   0   0 114   1   1   1   0   0]\n",
            " [  0   0   0   1   0   1   0   0   0]\n",
            " [  0   0   0   0   1  39   0   0   0]\n",
            " [ 14   4   0   0   0   0 158   0   2]\n",
            " [  0   0   0   7   1   0   0   0   0]\n",
            " [  0   0   0   3   0   0   5   0   1]]\n",
            "                             precision    recall  f1-score   support\n",
            "\n",
            "             Clear or Sunny       0.55      0.35      0.42        49\n",
            "                     Cloudy       0.69      0.35      0.46        26\n",
            "                 Heavy Rain       1.00      0.90      0.95        10\n",
            "                 Light Rain       0.90      0.97      0.94       117\n",
            "              Moderate Rain       0.00      0.00      0.00         2\n",
            "     Moderate or Heavy Rain       0.95      0.97      0.96        40\n",
            "              Partly Cloudy       0.74      0.89      0.81       178\n",
            "              Thundershower       0.00      0.00      0.00         8\n",
            "Thundery Outbreaks Possible       0.33      0.11      0.17         9\n",
            "\n",
            "                   accuracy                           0.79       439\n",
            "                  macro avg       0.57      0.50      0.52       439\n",
            "               weighted avg       0.76      0.79      0.77       439\n",
            "\n"
          ],
          "name": "stdout"
        },
        {
          "output_type": "stream",
          "text": [
            "/usr/local/lib/python3.7/dist-packages/sklearn/metrics/_classification.py:1272: UndefinedMetricWarning: Precision and F-score are ill-defined and being set to 0.0 in labels with no predicted samples. Use `zero_division` parameter to control this behavior.\n",
            "  _warn_prf(average, modifier, msg_start, len(result))\n"
          ],
          "name": "stderr"
        }
      ]
    },
    {
      "cell_type": "markdown",
      "metadata": {
        "id": "jeh7i02JSjsA"
      },
      "source": [
        "#####**Training & Predicting Using Support Vector Machine Classifier**"
      ]
    },
    {
      "cell_type": "code",
      "metadata": {
        "id": "xkmNhW0hTTVY"
      },
      "source": [
        "from sklearn.svm import SVC\n",
        "\n",
        "svm = SVC(kernel = 'linear')\n",
        "\n",
        "svm.fit(X_train, y_train)\n",
        "\n",
        "y_pred = svm.predict(X_test)"
      ],
      "execution_count": 46,
      "outputs": []
    },
    {
      "cell_type": "markdown",
      "metadata": {
        "id": "ATs7BCEpTpDg"
      },
      "source": [
        "#####**Evaluating Support Vector Machine**"
      ]
    },
    {
      "cell_type": "code",
      "metadata": {
        "colab": {
          "base_uri": "https://localhost:8080/"
        },
        "id": "1jiSqCv4TwtD",
        "outputId": "1623c19c-8a73-41d6-f18c-a99b559d4d63"
      },
      "source": [
        "from sklearn.metrics import classification_report, confusion_matrix\n",
        "print(confusion_matrix(y_test, y_pred))\n",
        "print(classification_report(y_test, y_pred))"
      ],
      "execution_count": 49,
      "outputs": [
        {
          "output_type": "stream",
          "text": [
            "[[  0   0   0   0   0   0  49   0   0]\n",
            " [  0   0   0   0   0   0  26   0   0]\n",
            " [  0   0  10   0   0   0   0   0   0]\n",
            " [  0   0   0  81   0   1  35   0   0]\n",
            " [  0   0   0   1   0   1   0   0   0]\n",
            " [  0   0   0   2   0  38   0   0   0]\n",
            " [  0   0   0   0   0   0 178   0   0]\n",
            " [  0   0   0   6   0   0   2   0   0]\n",
            " [  0   0   0   0   0   0   9   0   0]]\n",
            "                             precision    recall  f1-score   support\n",
            "\n",
            "             Clear or Sunny       0.00      0.00      0.00        49\n",
            "                     Cloudy       0.00      0.00      0.00        26\n",
            "                 Heavy Rain       1.00      1.00      1.00        10\n",
            "                 Light Rain       0.90      0.69      0.78       117\n",
            "              Moderate Rain       0.00      0.00      0.00         2\n",
            "     Moderate or Heavy Rain       0.95      0.95      0.95        40\n",
            "              Partly Cloudy       0.60      1.00      0.75       178\n",
            "              Thundershower       0.00      0.00      0.00         8\n",
            "Thundery Outbreaks Possible       0.00      0.00      0.00         9\n",
            "\n",
            "                   accuracy                           0.70       439\n",
            "                  macro avg       0.38      0.40      0.39       439\n",
            "               weighted avg       0.59      0.70      0.62       439\n",
            "\n"
          ],
          "name": "stdout"
        },
        {
          "output_type": "stream",
          "text": [
            "/usr/local/lib/python3.7/dist-packages/sklearn/metrics/_classification.py:1272: UndefinedMetricWarning: Precision and F-score are ill-defined and being set to 0.0 in labels with no predicted samples. Use `zero_division` parameter to control this behavior.\n",
            "  _warn_prf(average, modifier, msg_start, len(result))\n"
          ],
          "name": "stderr"
        }
      ]
    }
  ]
}